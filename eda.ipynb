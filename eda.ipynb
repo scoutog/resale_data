{
 "cells": [
  {
   "cell_type": "code",
   "execution_count": null,
   "id": "ed29fdb0",
   "metadata": {},
   "outputs": [],
   "source": [
    "import json\n",
    "import pandas\n",
    "import matplotlib as plt\n",
    "import numpy as np\n",
    "from secrets import user, password"
   ]
  },
  {
   "cell_type": "code",
   "execution_count": null,
   "id": "d83a4811",
   "metadata": {},
   "outputs": [],
   "source": [
    "import altair as alt"
   ]
  },
  {
   "cell_type": "code",
   "execution_count": null,
   "id": "783eb06a",
   "metadata": {},
   "outputs": [],
   "source": [
    "# alt.renderers.enable('notebook')"
   ]
  },
  {
   "cell_type": "code",
   "execution_count": null,
   "id": "c971282d",
   "metadata": {},
   "outputs": [],
   "source": [
    "from stockxsdk import Stockx"
   ]
  },
  {
   "cell_type": "code",
   "execution_count": null,
   "id": "726efa3b",
   "metadata": {},
   "outputs": [],
   "source": [
    "# https://pypi.org/project/stockx-py-sdk/\n",
    "# pip install stockx-py-sdk"
   ]
  },
  {
   "cell_type": "code",
   "execution_count": null,
   "id": "05fc9785",
   "metadata": {},
   "outputs": [],
   "source": [
    "stockx = Stockx()"
   ]
  },
  {
   "cell_type": "code",
   "execution_count": null,
   "id": "79590018",
   "metadata": {},
   "outputs": [],
   "source": [
    "stockx.authenticate(user, password)"
   ]
  },
  {
   "cell_type": "code",
   "execution_count": null,
   "id": "cc4feac6",
   "metadata": {},
   "outputs": [],
   "source": [
    "# https://medium.com/swlh/scraping-180k-luxury-fashion-products-with-python-ba42fdd831d8\n",
    "# https://medium.com/swlh/sneaker-data-pipeline-grailed-listings-643ed71495e8"
   ]
  }
 ],
 "metadata": {
  "kernelspec": {
   "display_name": "Python 3 (ipykernel)",
   "language": "python",
   "name": "python3"
  },
  "language_info": {
   "codemirror_mode": {
    "name": "ipython",
    "version": 3
   },
   "file_extension": ".py",
   "mimetype": "text/x-python",
   "name": "python",
   "nbconvert_exporter": "python",
   "pygments_lexer": "ipython3",
   "version": "3.7.16"
  }
 },
 "nbformat": 4,
 "nbformat_minor": 5
}
